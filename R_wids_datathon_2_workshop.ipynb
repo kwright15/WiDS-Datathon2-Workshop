{
 "cells": [
  {
   "cell_type": "markdown",
   "id": "4a1f3b78-b35f-46dd-8fde-ee8fc2eb2efa",
   "metadata": {},
   "source": [
    "# Exploratory Data Analysis (EDA)\n",
    "\n",
    "### Datathon challenge task\n",
    "Predict the duration of time it takes for patients to receive metastatic cancer diagnosis.\n",
    "\n",
    "### EDA Techniques\n",
    "- Analysis\n",
    "    - Load data\n",
    "    - Understand the data:\n",
    "        - Categorize the types of features\n",
    "        - Data shape, types, missing (null) values, unique values\n",
    "        - Categorical vs numeric data, and which of the categorical data is ordinal (has an order)\n",
    "        - Statistical analysis\n",
    "        - Visualizations\n",
    "            - Univariate\n",
    "            - Bivariate\n",
    "            - Multivariate\n",
    "    - Feature correlations\n",
    "- Cleaning\n",
    "    - Removing features\n",
    "    - Handling missing data\n",
    "    - Encoding categorical variables\n",
    "- Feature engineering"
   ]
  },
  {
   "cell_type": "code",
   "execution_count": null,
   "id": "e30e6a46-7651-402d-8a51-064a22de349b",
   "metadata": {},
   "outputs": [],
   "source": [
    "# Import libraries\n",
    "\n"
   ]
  },
  {
   "cell_type": "markdown",
   "id": "789799e3-754b-4674-8c8b-6e1469f843df",
   "metadata": {},
   "source": [
    "# Analysis"
   ]
  },
  {
   "cell_type": "markdown",
   "id": "48e4e0f8-8643-45f9-950e-5636b4d2008f",
   "metadata": {},
   "source": [
    "## Load data"
   ]
  },
  {
   "cell_type": "code",
   "execution_count": null,
   "id": "958ac13a-11fc-4c23-8e0e-1abc41aaa7a2",
   "metadata": {},
   "outputs": [],
   "source": [
    "# Assisted by WCA@IBM\n",
    "# Latest GenAI contribution: ibm/granite-20b-code-instruct-v2\n",
    "# Load .csv data as dataframes and make patient_id the index\n",
    "df_train <- read_csv(\"data/train.csv\", col_types = cols(.default = \"i\"))\n",
    "df_test <- read_csv(\"data/test.csv\", col_types = cols(.default = \"i\"))\n",
    "\n",
    "# Look at the first few rows of data\n",
    "head(df_train)"
   ]
  },
  {
   "cell_type": "markdown",
   "id": "b1dad69e-2465-461a-ae8e-cf3faa35b526",
   "metadata": {},
   "source": [
    "## Understand the data"
   ]
  },
  {
   "cell_type": "markdown",
   "id": "d12f59a7-409c-42cf-839e-79c28f7de6be",
   "metadata": {},
   "source": [
    "### Categorize the types of features\n",
    "\n",
    "Read the [data descriptions](https://www.kaggle.com/competitions/widsdatathon2024-challenge2/data) on Kaggle.\n",
    "\n",
    "**Patient characteristics:** patient_race, payer_type, patient_age, patient_gender, bmi\n",
    "\n",
    "**Patient location:** patient_state, patient_zip3, region, division\n",
    "\n",
    "**Breast cancer diagnosis information:** breast_cancer_diagnosis_code, breast_cancer_diagnosis_desc, metastatic_cancer_diagnosis_code, \n",
    "    metastatic_first_novel_treatment, metastatic_first_novel_treatment_type\n",
    "\n",
    "**Geo (zip-code level) demographic data:** Many! (population, income, education, rent, race, poverty etc)\n",
    "\n",
    "**Climate data:** 72 columns showing the zip 3 Monthly Average Temperature for the patient’s zip 3 and month referenced\n",
    "\n",
    "**Target variable:** metastatic_diagnosis_period"
   ]
  },
  {
   "cell_type": "code",
   "execution_count": null,
   "id": "0c2ab7ab-daa1-4204-af4c-b4ee027e108a",
   "metadata": {},
   "outputs": [],
   "source": []
  },
  {
   "cell_type": "markdown",
   "id": "607cfc64-5759-4256-a4d9-c61c1b385d7d",
   "metadata": {},
   "source": [
    "This code defines a function called initial_eda() that takes a dataframe as input. It then prints out the dimensions of the dataframe, the total number of missing values, the data type of each column, the number of unique values for each column, and the number of missing values for each column.\n",
    "\n",
    "Note that the syntax for some functions may be slightly different between Python and R. However, the general idea remains the same."
   ]
  },
  {
   "cell_type": "code",
   "execution_count": null,
   "id": "867c1588-e5e0-41e2-9c4f-576ff3604bca",
   "metadata": {},
   "outputs": [],
   "source": [
    "# Assisted by WCA@IBM\n",
    "# Latest GenAI contribution: ibm/granite-20b-code-instruct-v2\n",
    "# Define a function that shows the data dimensions (# rows and columns), total # NA values, and data types, \n",
    "# number of distinct NA (null) values for each column (feature)\n",
    "initial_eda <- function(df){\n",
    "  if (class(df) != \"data.frame\"){\n",
    "    stop(\"Expect a dataframe\")\n",
    "  }\n",
    "  cat(\"Dimensions : \", nrow(df), \"rows, \", ncol(df), \"columns\\n\")\n",
    "  cat(\"Total NA Values : \", sum(is.na(df)), \"\\n\")\n",
    "  cat(paste0(sprintf(\"%38s %10s     %10s %10s\\n\", \"Column Name\", \"Data Type\", \"#Distinct\", \"NaN Values\")))\n",
    "  col_name <- names(df)\n",
    "  dtyp <- sapply(df, class)\n",
    "  uniq <- apply(df, 2, function(x) length(unique(x)))\n",
    "  na_val <- apply(df, 2, function(x) sum(is.na(x)))\n",
    "  for (i in seq_along(col_name)){\n",
    "    cat(paste0(sprintf(\"%38s %10s   %10s %10s\\n\", col_name[i], dtyp[i], uniq[i], na_val[i])))\n",
    "  }\n",
    "}"
   ]
  },
  {
   "cell_type": "code",
   "execution_count": null,
   "id": "a6c9cdb4-cdbb-4ca3-ac8e-849529f66a51",
   "metadata": {},
   "outputs": [],
   "source": [
    "# Call the function on our training data\n",
    "\n",
    "initial_eda(df_train)"
   ]
  },
  {
   "cell_type": "code",
   "execution_count": null,
   "id": "09a81a46-c196-44c5-9c68-2bc62de34699",
   "metadata": {},
   "outputs": [],
   "source": [
    "# Call the function on our testing data\n",
    "\n",
    "initial_eda(df_test)"
   ]
  },
  {
   "cell_type": "markdown",
   "id": "9926febc-8c90-40ce-97da-df65c8cd3ba1",
   "metadata": {},
   "source": [
    "#### Observations\n",
    "\n",
    "**Data types**\n",
    "\n",
    "- 11 object types in train and test - these are categorical features\n",
    "    - None of these seem to be ordinal\n",
    "\n",
    "- 3 integer types in train, 2 in test - zip, age, and the target variable (metastatic_diagnosis_period)\n",
    "\n",
    "- The rest of the features are floats\n",
    "\n",
    "**# distinct values**\n",
    "\n",
    "- Only 1 distinct value for patient_gender (female) in train and test data, so we can drop this feature\n",
    "\n",
    "- Only 1 distinct value for metastatic_first_novel_treatment_type in train and test data, and only 11 rows contain a value in train and 7 in test, so we can drop this feature\n",
    "\n",
    "- Only 2 distinct values for metastatic_first_novel_treatment in train and test data, and only 11 rows contain a value in train and 7 in test, so we can probably drop this feature, but look for any strong correlation with the target feature\n",
    "\n",
    "- patient_zip3 and population have the same number of unique values in train (751) and test (669), so do we need them both? \n",
    "Population is a size, so it might be important. Is zip random? How strong is the correlation with the target variable?\n",
    "\n",
    "**NaN values - need to start thinking about how to handle these**\n",
    "\n",
    "- patient_race: ~half are missing in train and test\n",
    "\n",
    "- payer_type: 13-14% are missing in train and test\n",
    "\n",
    "- bmi: 69-70% are missing in train and test\n",
    "\n",
    "- metastatic_cancer_diagnosis_code and metastatic_first_novel_treatment_type: almost all are missing\n",
    "\n",
    "- Several features (23) are missing 5 values in the train data but none of those are missing in the test data. Are the 5 missing values for\n",
    "each feature in the same row? If so, can we just drop those rows? (Yes, all are in the same rows and they are in the same zip, and those\n",
    "are the only 5 records for that zip, but that zip is not in the test data, so we can probably drop them.)\n",
    "\n",
    "- Avg temps: Missing 0-180 in train and 0-95 in test. The 180/95 are in Apr-14 and are all in NY (6 zips) or ID (1 zip) in both train\n",
    "and test"
   ]
  },
  {
   "cell_type": "markdown",
   "id": "e4789b18-82ee-465a-ae4c-659d0cba4a8a",
   "metadata": {},
   "source": [
    "### Drop features and observations that logically add no value"
   ]
  },
  {
   "cell_type": "code",
   "execution_count": null,
   "id": "81473b9a-460a-4d47-a166-af0c1245214f",
   "metadata": {},
   "outputs": [],
   "source": [
    "# Assisted by WCA@IBM\n",
    "# Latest GenAI contribution: ibm/granite-20b-code-instruct-v2\n",
    "# Drop features\n",
    "\n",
    "# Only one value for patient_gender\n",
    "# Only one value for metastatic_first_novel_treatment_type and two values for metastatic_first_novel_treatment, \n",
    "# and there are only 11 non-null rows in the train data, and 7 non-null in the test data\n",
    "\n",
    "drop_features <- c('metastatic_first_novel_treatment',         # rarely filled in\n",
    "                  'metastatic_first_novel_treatment_type',    # rarely filled in\n",
    "                  'patient_gender')                           # always the same value\n",
    "\n",
    "# Always perform the same actions on train and test data\n",
    "df_train <- df_train %>% select(-one_of(drop_features))\n",
    "df_test <- df_test %>% select(-one_of(drop_features))"
   ]
  },
  {
   "cell_type": "code",
   "execution_count": null,
   "id": "d3705aa1-58af-4706-8efc-5d184d525345",
   "metadata": {},
   "outputs": [],
   "source": [
    "# Assisted by WCA@IBM\n",
    "# Latest GenAI contribution: ibm/granite-20b-code-instruct-v2\n",
    "# Drop the 5 rows that have 23 missing features all from the same zip; that zip is not present in the test set\n",
    "df_train <- df_train %>% filter(patient_zip3 != 772)\n",
    "\n",
    "# Check the shape (originally we had 13173 rows)\n",
    "dim(df_train)"
   ]
  },
  {
   "cell_type": "markdown",
   "id": "26bbdf7c-f538-415f-a1f4-94a5d0438463",
   "metadata": {},
   "source": [
    "### Statistical summary"
   ]
  },
  {
   "cell_type": "code",
   "execution_count": null,
   "id": "85e94fd1-1b9f-40dc-9e3f-b6ae196a85a4",
   "metadata": {},
   "outputs": [],
   "source": [
    "# this doesn't look right\n",
    "\n",
    "# Assisted by WCA@IBM\n",
    "# Latest GenAI contribution: ibm/granite-20b-code-instruct-v2\n",
    "# Do not truncate\n",
    "options(repr.plot.width=16, repr.plot.height=8)"
   ]
  },
  {
   "cell_type": "code",
   "execution_count": null,
   "id": "f55f92bc-ff51-420e-93cd-5bb51f31e85f",
   "metadata": {},
   "outputs": [],
   "source": []
  },
  {
   "cell_type": "code",
   "execution_count": null,
   "id": "0384bb3a-d2c8-4c35-81cc-7dae2a49a732",
   "metadata": {},
   "outputs": [],
   "source": []
  },
  {
   "cell_type": "markdown",
   "id": "07f5f72d-2f74-4c98-8243-35e10fd94c9c",
   "metadata": {},
   "source": [
    "#### Observations\n",
    "\n",
    "**patient_zip3** max in test is different than train so we know there are values in test that are not in train (and probably vice versa)\n",
    "\n",
    "**patient_age** range from 18-91\n",
    "\n",
    "**bmi** max is 97 in train but only 43.7 in test! Looking closer, there is one 90 and one 97 in the train data, which are anomalies,\n",
    "perhaps we remove those rows\n",
    "\n",
    "**target variable** min=0, max=365, mean=96.5, std=109, count of 0=3126, count >= 350=224"
   ]
  },
  {
   "cell_type": "markdown",
   "id": "ac648ab4-76b5-4c31-bc10-13efe11cba31",
   "metadata": {},
   "source": [
    "### Categorical vs numerical features"
   ]
  },
  {
   "cell_type": "code",
   "execution_count": null,
   "id": "73f93047-3a58-4b60-8d6c-b1ad3e5651bf",
   "metadata": {},
   "outputs": [],
   "source": [
    "# Assisted by WCA@IBM\n",
    "# Latest GenAI contribution: ibm/granite-20b-code-instruct-v2\n",
    "# Create variables for the categorical and numeric features of df_train (df_test will be the same except the target col)\n",
    "cat_cols <- names(df_train)[sapply(df_train, is.factor)]\n",
    "num_cols <- names(df_train)[sapply(df_train, is.numeric)]\n",
    "target_col <- \"metastatic_diagnosis_period\"\n",
    "\n",
    "# Print the list of categorical and numerical features\n",
    "print(\"Categorical Variables:\")\n",
    "print(cat_cols)\n",
    "print(\"Numerical Variables:\")\n",
    "print(num_cols)"
   ]
  },
  {
   "cell_type": "markdown",
   "id": "e5d4970e-9a33-4ced-a137-f4059c0a9d93",
   "metadata": {},
   "source": [
    "### Compare unique values in df_train and df_test\n",
    "\n",
    "Which features are present in the training data but not in the test data, and vice versa"
   ]
  },
  {
   "cell_type": "code",
   "execution_count": null,
   "id": "3bce452b-fa87-4b38-b8ba-299410b978f8",
   "metadata": {},
   "outputs": [],
   "source": [
    "# Assisted by WCA@IBM\n",
    "# Latest GenAI contribution: ibm/granite-20b-code-instruct-v2\n",
    "# Iterate over the columns of df_train\n",
    "for (col in names(df_train)) {\n",
    "  # Check if the column exists in df_test\n",
    "  if (col %in% names(df_test)) {\n",
    "    # Get the unique values of col in df_train\n",
    "    unique_values_train <- unique(df_train[[col]])\n",
    "    # Get the unique values of col in df_test\n",
    "    unique_values_test <- unique(df_test[[col]])\n",
    "    # Find the differences between the two sets\n",
    "    differences <- setdiff(unique_values_train, unique_values_test)\n",
    "    diff_count <- length(differences)\n",
    "    if (length(differences) > 0) {\n",
    "      cat(paste0(col, \" has the following unique values that are not present in the test dataset: \", differences, \"\\n\"))\n",
    "      cat(paste0(col, \" has the following number of differences: \", diff_count, \"\\n\"))\n",
    "    }\n",
    "  }\n",
    "}"
   ]
  },
  {
   "cell_type": "code",
   "execution_count": null,
   "id": "add7d51d-d682-4f5d-85ec-38891c175e2b",
   "metadata": {},
   "outputs": [],
   "source": [
    "# Assisted by WCA@IBM\n",
    "# Latest GenAI contribution: ibm/granite-20b-code-instruct-v2\n",
    "# Iterate over the columns of df_test\n",
    "for (col in names(df_test)) {\n",
    "  # Check if the column exists in df_train\n",
    "  if (col %in% names(df_train)) {\n",
    "    # Get the unique values of col in df_test\n",
    "    unique_values_test <- unique(df_test[[col]])\n",
    "    # Get the unique values of col in df_train\n",
    "    unique_values_train <- unique(df_train[[col]])\n",
    "    # Find the differences between the two sets\n",
    "    differences <- setdiff(unique_values_test, unique_values_train)\n",
    "    diff_count <- length(differences)\n",
    "    if (length(differences) > 0) {\n",
    "      cat(paste0(col, \" has the following unique values that are not present in the train dataset: \", differences, \"\\n\"))\n",
    "      cat(paste0(col, \" has the following number of differences: \", diff_count, \"\\n\"))\n",
    "    }\n",
    "  }\n",
    "}"
   ]
  },
  {
   "cell_type": "markdown",
   "id": "9be1baa7-9ce5-43e0-a38c-1f9f680dbbba",
   "metadata": {},
   "source": [
    "#### Observations\n",
    "\n",
    "**patient_race, payer_type, patient_state, Region, Division, patient_age** Same values in train and test\n",
    "\n",
    "**patient_zip3 and population** Train has 93 zips/populations not in test, test has 12 zips/populations not in train\n",
    "\n",
    "**breast_cancer_diagnosis_code** Train has 7 values not in test (but just 1 or a few occurences of each), test has 1 value not in train (but only 1 occurrence of it)\n",
    "\n",
    "**metastatic_cancer_diagnosis_code** Train has 7 values not in test (but just 1 or a few occurences of each), test has 2 values not in train (but only 1 occurrence of each)"
   ]
  },
  {
   "cell_type": "markdown",
   "id": "5014cac7-e368-483a-9be9-e9fe93c6f6a0",
   "metadata": {},
   "source": [
    "### Visualizations\n",
    "\n",
    "Categorical variables can be visualized using a Count plot, Bar Chart, Pie Plot, etc.\n",
    "\n",
    "Numerical Variables can be visualized using Histogram, Box Plot, Density Plot, etc."
   ]
  },
  {
   "cell_type": "markdown",
   "id": "73440079-b39f-440e-a987-c9bcb4f9cd58",
   "metadata": {},
   "source": [
    "#### Univariate analysis\n",
    "\n",
    "Looks at each feature individually"
   ]
  },
  {
   "cell_type": "code",
   "execution_count": null,
   "id": "98b6594d-925a-4b34-97cf-86ec2187dc33",
   "metadata": {},
   "outputs": [],
   "source": [
    "# Histogram and box plot of numerical data for df_train\n",
    "\n",
    "for (col in num_cols) {\n",
    "  cat(col, \"\\n\")\n",
    "  cat(\"Skew :\", round(skew(df_train[[col]]), 2), \"\\n\")\n",
    "  hist(df_train[[col]], main=col, xlab=col, ylab=\"Frequency\", col=\"lightblue\")\n",
    "  boxplot(df_train[[col]], main=col, xlab=col, col=\"lightblue\")\n",
    "  cat(\"\\n\")\n",
    "}"
   ]
  },
  {
   "cell_type": "code",
   "execution_count": null,
   "id": "ec425a92-5469-446a-b015-6a103aef1de3",
   "metadata": {},
   "outputs": [],
   "source": [
    "# Assisted by WCA@IBM\n",
    "# Latest GenAI contribution: ibm/granite-20b-code-instruct-v2\n",
    "# Histogram and box plot of numerical data for df_test\n",
    "\n",
    "for (col in num_cols) {\n",
    "  cat(col, \"\\n\")\n",
    "  cat(\"Skew :\", round(skew(df_test[[col]]), 2), \"\\n\")\n",
    "  hist(df_test[[col]], main=col, xlab=col, ylab=\"Frequency\", col=\"lightblue\")\n",
    "  boxplot(df_test[[col]], main=col, xlab=col, col=\"lightblue\")\n",
    "  cat(\"\\n\")\n",
    "}"
   ]
  },
  {
   "cell_type": "markdown",
   "id": "7ab7f44b-5f08-4ab5-b0cd-46a5c47c26ba",
   "metadata": {},
   "source": [
    "#### Observations of data\n",
    "\n",
    "**bmi** 3 major outliers for train data, perhaps we drop those rows\n",
    "\n",
    "**density** is quite skewed and has many outliers, but same for both data sets\n",
    "\n",
    "**metastatic_diagnosis_period** Median is less than 50 days, has a right positive skew\n",
    "\n",
    "**age_over_80** Out of proportion between the data sets based on histograms (box plots are very similar)"
   ]
  },
  {
   "cell_type": "code",
   "execution_count": null,
   "id": "5056f246-8b06-446a-b4f6-8bcec79110b4",
   "metadata": {},
   "outputs": [],
   "source": [
    "# Count plot of categorical data for df_train\n",
    "\n",
    "library(ggplot2)\n",
    "\n",
    "fig <- ggplot(data = df_train) + \n",
    "  geom_bar(mapping = aes(x = patient_race)) + \n",
    "  labs(title = \"Bar plot for patient_race variable\", \n",
    "       subtitle = \"Count of patients by race\", \n",
    "       x = \"Race\", \n",
    "       y = \"Count\") + \n",
    "  theme(plot.title = element_text(hjust = 0.5))\n",
    "\n",
    "fig"
   ]
  },
  {
   "cell_type": "code",
   "execution_count": null,
   "id": "8272a14e-c084-48d9-960a-4183b518e8bd",
   "metadata": {},
   "outputs": [],
   "source": [
    "# Count plot of categorical data for df_test\n",
    "\n",
    "library(ggplot2)\n",
    "\n",
    "fig <- ggplot(data = df_test) + \n",
    "  geom_bar(mapping = aes(x = patient_race)) + \n",
    "  labs(title = \"Bar plot for patient_race variable\", \n",
    "       subtitle = \"Count of patients by race\", \n",
    "       x = \"Race\", \n",
    "       y = \"Count\") + \n",
    "  theme(plot.title = element_text(hjust = 0.5))\n",
    "\n",
    "fig"
   ]
  },
  {
   "cell_type": "code",
   "execution_count": null,
   "id": "c3268d7e-107f-46d9-a3f3-56b30a6adaa8",
   "metadata": {},
   "outputs": [],
   "source": [
    "# Group the data by breast_cancer_diagnosis_code and calculate the mean metastatic_diagnosis_period\n",
    "\n",
    "grouped_data <- aggregate(df_train$metastatic_diagnosis_period, by = list(df_train$breast_cancer_diagnosis_code), FUN = mean)\n",
    "head(grouped_data)"
   ]
  },
  {
   "cell_type": "code",
   "execution_count": null,
   "id": "c81bfed9-6010-495d-9efb-82066985a1bf",
   "metadata": {},
   "outputs": [],
   "source": [
    "# Plot a bar chart of the mean metastatic_diagnosis_period for each breast_cancer_diagnosis_code\n",
    "\n",
    "barplot(grouped_data$x, main=\"Mean Metastatic Diagnosis Period for Each Breast Cancer Diagnosis Code\", xlab=\"Diagnosis Code\", ylab=\"Mean Metastatic Diagnosis Period\", names.arg=grouped_data$Group.1)"
   ]
  },
  {
   "cell_type": "code",
   "execution_count": null,
   "id": "4a7694cf-7d8a-4a41-82cd-b4f4f150bce7",
   "metadata": {},
   "outputs": [],
   "source": [
    "# Group the data by metastatic_cancer_diagnosis_code and calculate the mean metastatic_diagnosis_period\n",
    "\n",
    "grouped_data <- aggregate(df_train$metastatic_diagnosis_period, by=list(df_train$metastatic_cancer_diagnosis_code), FUN=mean)\n",
    "head(grouped_data)"
   ]
  },
  {
   "cell_type": "code",
   "execution_count": null,
   "id": "23423c0f-13dc-4a48-8cc9-0227f23f5ade",
   "metadata": {},
   "outputs": [],
   "source": [
    "# Plot a bar chart of the mean metastatic_diagnosis_period for each metastatic_cancer_diagnosis_code\n",
    "\n",
    "barplot(grouped_data$x, names.arg=grouped_data$Group.1, main=\"Mean Metastatic Diagnosis Period for Each Metastatic Cancer Diagnosis Code\", xlab=\"Diagnosis Code\", ylab=\"Mean Metastatic Diagnosis Period\")"
   ]
  },
  {
   "cell_type": "markdown",
   "id": "3c8c27b5-1239-4307-a8f6-e0bb5ae811c7",
   "metadata": {},
   "source": [
    "## Visualizations - bivariate analysis"
   ]
  },
  {
   "cell_type": "code",
   "execution_count": null,
   "id": "a80202aa-7241-4893-a1a4-8477baebbcaa",
   "metadata": {},
   "outputs": [],
   "source": [
    "# Cannot convert to R"
   ]
  },
  {
   "cell_type": "markdown",
   "id": "30c09e9c-d031-4983-b410-689ac46232ee",
   "metadata": {},
   "source": [
    "## Clean data"
   ]
  },
  {
   "cell_type": "code",
   "execution_count": null,
   "id": "2149fdfa-d5a9-420e-9a8b-890a24aac113",
   "metadata": {},
   "outputs": [],
   "source": [
    "# Data prep - replace categorical column nulls with 'unknown'\n",
    "\n",
    "for (column in cat_cols) {\n",
    "  df_train[[column]] <- replace(df_train[[column]], is.na(df_train[[column]]), \"unknown\")\n",
    "  df_test[[column]] <- replace(df_test[[column]], is.na(df_test[[column]]), \"unknown\")\n",
    "}"
   ]
  },
  {
   "cell_type": "code",
   "execution_count": null,
   "id": "90a9b316-6038-4efc-89f6-1ac33058d4a5",
   "metadata": {},
   "outputs": [],
   "source": [
    "# Drop target from num_cols\n",
    "\n",
    "num_cols <- setdiff(num_cols, target_col)"
   ]
  },
  {
   "cell_type": "code",
   "execution_count": null,
   "id": "eef02915-9232-424d-9c03-e54103e0f614",
   "metadata": {},
   "outputs": [],
   "source": [
    "# Data prep - remaining nulls are in numeric columns - convert them to mean values from df_train\n",
    "# (since df_train has more data and will likely have a more representative mean value than df_test)\n",
    "\n",
    "for (column in num_cols) {\n",
    "  mean_value <- mean(df_train[[column]], na.rm = TRUE)\n",
    "  df_train[[column]] <- ifelse(is.na(df_train[[column]]), mean_value, df_train[[column]])\n",
    "  df_test[[column]] <- ifelse(is.na(df_test[[column]]), mean_value, df_test[[column]])\n",
    "}\n",
    "\n",
    "head(df_train)"
   ]
  },
  {
   "cell_type": "code",
   "execution_count": null,
   "id": "9625f35b-bf5b-424f-a662-765869ff6608",
   "metadata": {},
   "outputs": [],
   "source": [
    "# Convert categorical columns to numbers using LabelEncoder()\n",
    "\n",
    "for (column in cat_cols) {\n",
    "  combined_data <- rbind(df_train, df_test)\n",
    "  le <- LabelEncoder()\n",
    "  le$fit(combined_data[[column]])\n",
    "  df_train[[column]] <- le$transform(df_train[[column]])\n",
    "  df_test[[column]] <- le$transform(df_test[[column]])\n",
    "}\n",
    "\n",
    "head(df_train)"
   ]
  },
  {
   "cell_type": "markdown",
   "id": "ee735248-2539-476e-b497-51444bb0a160",
   "metadata": {},
   "source": [
    "## Correlations"
   ]
  },
  {
   "cell_type": "markdown",
   "id": "a94823fa-4300-4fb6-a4c0-21d3e69e33db",
   "metadata": {},
   "source": [
    "### Correlation EDA by feature category"
   ]
  },
  {
   "cell_type": "markdown",
   "id": "d61aa3a3-ed87-4735-8de4-4f06ab24bb97",
   "metadata": {},
   "source": [
    "Since there are so many features, a heatmap of all features is not comprehensible. So let us break down the features in a way that makes sense for the analysis."
   ]
  },
  {
   "cell_type": "code",
   "execution_count": null,
   "id": "8385a1a1-ae33-4dfb-9ab0-c3334bf9d10f",
   "metadata": {},
   "outputs": [],
   "source": [
    "patient_demographics <- c(\"patient_race\",\n",
    "                          \"patient_state\",\n",
    "                          \"patient_zip3\",\n",
    "                          \"patient_age\",\n",
    "                          \"bmi\",\n",
    "                          \"metastatic_diagnosis_period\")\n",
    "\n",
    "diagnosis_codes <- c(\"breast_cancer_diagnosis_code\",\n",
    "                     \"metastatic_cancer_diagnosis_code\")\n",
    "\n",
    "treatment <- c(\"metastatic_first_novel_treatment\",\n",
    "               \"metastatic_first_novel_treatment_type\")\n",
    "\n",
    "demographics_by_zip_code <- c(\"population\",\n",
    "                              \"density\",\n",
    "                              \"age_median\",\n",
    "                              \"male\",\n",
    "                              \"female\",\n",
    "                              \"married\",\n",
    "                              \"family_size\",\n",
    "                              \"income_household_median\",\n",
    "                              \"income_household_six_figure\",\n",
    "                              \"home_ownership\",\n",
    "                              \"housing_units\",\n",
    "                              \"home_value\",\n",
    "                              \"rent_median\",\n",
    "                              \"education_college_or_above\",\n",
    "                              \"labor_force_participation\",\n",
    "                              \"unemployment_rate\",\n",
    "                            \"metastatic_diagnosis_period\")\n",
    "race_and_ethnicity <- c(\"race_white\",\n",
    "                        \"race_black\",\n",
    "                        \"race_asian\",\n",
    "                        \"race_native\",\n",
    "                        \"race_pacific\",\n",
    "                        \"race_other\",\n",
    "                        \"race_multiple\",\n",
    "                        \"hispanic\",\n",
    "                        \"metastatic_diagnosis_period\")\n",
    "\n",
    "age_groups <- c(\"age_under_10\",\n",
    "                \"age_10_to_19\",\n",
    "                \"age_20s\",\n",
    "                \"age_30s\",\n",
    "                \"age_40s\",\n",
    "                \"age_50s\",\n",
    "                \"age_60s\",\n",
    "                \"age_70s\",\n",
    "                \"age_over_80\", \n",
    "                \"metastatic_diagnosis_period\")\n",
    "\n",
    "marital_status <- c(\"divorced\",\n",
    "                    \"never_married\",\n",
    "                    \"widowed\",\n",
    "                    \"metastatic_diagnosis_period\")\n",
    "income <- c(\"family_dual_income\",  # Create this feature based on family_dual_income\n",
    "            \"income_household_under_5\",\n",
    "            \"income_household_5_to_10\",\n",
    "            \"income_household_10_to_15\", \n",
    "            \"income_household_15_to_20\",\n",
    "            \"income_household_20_to_25\",\n",
    "            \"income_household_25_to_35\",\n",
    "            \"income_household_35_to_50\",\n",
    "            \"income_household_50_to_75\",\n",
    "            \"income_household_75_to_100\",\n",
    "            \"income_household_100_to_150\",\n",
    "            \"income_household_150_over\", \n",
    "            \"income_individual_median\",\n",
    "            \"metastatic_diagnosis_period\")\n",
    "\n",
    "socioeconomic_factors <- c(\"poverty\",\n",
    "                           \"rent_burden\",\n",
    "                           \"metastatic_diagnosis_period\")\n",
    "\n",
    "education <- c(\"education_less_highschool\",\n",
    "               \"education_highschool\",\n",
    "               \"education_some_college\",\n",
    "               \"education_bachelors\",\n",
    "               \"education_graduate\",\n",
    "               \"education_stem_degree\",\n",
    "               \"metastatic_diagnosis_period\")\n",
    "\n",
    "employment <- c(\"self_employed\",\n",
    "                \"farmer\",\n",
    "                \"metastatic_diagnosis_period\")\n",
    "\n",
    "other <- c(\"disabled\",\n",
    "           \"limited_english\",\n",
    "           \"commute_time\",\n",
    "           \"health_uninsured\",\n",
    "           \"veteran\",\n",
    "           \"metastatic_diagnosis_period\")\n",
    "\n",
    "# Time-based averages (needs further handling based on your approach)\n",
    "time_based_averages <- c('Average of Jan-13', 'Average of Feb-13', 'Average of Mar-13', 'Average of Apr-13', 'Average of May-13', 'Average of Jun-13', 'Average of Jul-13', 'Average of Aug-13', 'Average of Sep-13', 'Average of Oct-13', 'Average of Nov-13', 'Average of Dec-13', 'Average of Jan-14', 'Average of Feb-14', 'Average of Mar-14', 'Average of Apr-14', 'Average of May-14', 'Average of Jun-14', 'Average of Jul-14', 'Average of Aug-14', 'Average of Sep-14', 'Average of Oct-14', 'Average of Nov-14', 'Average of Dec-14', 'Average of Jan-15', 'Average of Feb-15', 'Average of Mar-15', 'Average of Apr-15', 'Average of May-15', 'Average of Jun-15', 'Average of Jul-15', 'Average of Aug-15', 'Average of Sep-15', 'Average of Oct-15', 'Average of Nov-15', 'Average of Dec-15', 'Average of Jan-16', 'Average of Feb-16', 'Average of Mar-16', 'Average of Apr-16', 'Average of May-16', 'Average of Jun-16', 'Average of Jul-16', 'Average of Aug-16', 'Average of Sep-16', 'Average of Oct-16', 'Average of Nov-16', 'Average of Dec-16', 'Average of Jan-17', 'Average of Feb-17', 'Average of Mar-17', 'Average of Apr-17', 'Average of May-17', 'Average of Jun-17', 'Average of Jul-17', 'Average of Aug-17', 'Average of Sep-17', 'Average of Oct-17', 'Average of Nov-17', 'Average of Dec-17', 'Average of Jan-18', 'Average of Feb-18', 'Average of Mar-18', 'Average of Apr-18', 'Average of May-18', 'Average of Jun-18', 'Average of Jul-18', 'Average of Aug-18', 'Average of Sep-18', 'Average of Oct-18', 'Average of Nov-18', 'Average of Dec-18')"
   ]
  },
  {
   "cell_type": "markdown",
   "id": "ef528f87-0504-48a0-b925-56f80c18e786",
   "metadata": {},
   "source": [
    "#### Patient Demographics"
   ]
  },
  {
   "cell_type": "code",
   "execution_count": null,
   "id": "e26fadbe-af47-44ea-b5cf-da39e43e798d",
   "metadata": {},
   "outputs": [],
   "source": [
    "# Load libraries\n",
    "library(tidyverse)\n",
    "library(ggcorrplot)\n",
    "\n",
    "# Calculate correlation coefficients\n",
    "correlation_matrix <- cor(df_train[, patient_demographics])\n",
    "\n",
    "# Create a heatmap\n",
    "ggcorrplot(correlation_matrix, label = TRUE, type = \"lower\", \n",
    "           title = \"Correlation Matrix (Features vs. Target)\", \n",
    "           lab_size = 3, ggtheme = ggplot2::theme_minimal())"
   ]
  },
  {
   "cell_type": "markdown",
   "id": "69d6719b-b570-4c12-a63f-5b7c809c5a48",
   "metadata": {},
   "source": [
    "####  Demographics by Zip Code"
   ]
  },
  {
   "cell_type": "code",
   "execution_count": null,
   "id": "c6431908-6d53-436e-a1e4-274f06eceae0",
   "metadata": {},
   "outputs": [],
   "source": [
    "# Calculate correlation coefficients\n",
    "correlation_matrix <- cor(df_train[, demographics_by_zip_code])\n",
    "\n",
    "# Create a heatmap\n",
    "ggcorrplot(correlation_matrix, label = TRUE, type = \"lower\", \n",
    "           title = \"Correlation Matrix (Features vs. Target)\", \n",
    "           lab_size = 3, ggtheme = ggplot2::theme_minimal())"
   ]
  },
  {
   "cell_type": "markdown",
   "id": "ef9af2b2-d567-4eaa-b08e-5c65a67beb5d",
   "metadata": {},
   "source": [
    "#### race_and_ethnicity "
   ]
  },
  {
   "cell_type": "code",
   "execution_count": null,
   "id": "5fae1af0-216f-4981-82be-bd6a65ef32b6",
   "metadata": {},
   "outputs": [],
   "source": [
    "# Calculate correlation coefficients\n",
    "correlation_matrix <- cor(df_train[, race_and_ethnicity])\n",
    "\n",
    "# Create a heatmap\n",
    "ggcorrplot(correlation_matrix, label = TRUE, type = \"lower\", \n",
    "           title = \"Correlation Matrix (Features vs. Target)\", \n",
    "           lab_size = 3, ggtheme = ggplot2::theme_minimal())"
   ]
  },
  {
   "cell_type": "markdown",
   "id": "adb15c06-491f-4ee2-84f8-9c131028caa4",
   "metadata": {},
   "source": [
    "#### Age group correlation "
   ]
  },
  {
   "cell_type": "code",
   "execution_count": null,
   "id": "44fb0e29-bc7e-4fec-89ae-16796644f62d",
   "metadata": {},
   "outputs": [],
   "source": [
    "# Calculate correlation coefficients\n",
    "correlation_matrix <- cor(df_train[, age_groups])\n",
    "\n",
    "# Create a heatmap\n",
    "ggcorrplot(correlation_matrix, label = TRUE, type = \"lower\", \n",
    "           title = \"Correlation Matrix (Features vs. Target)\", \n",
    "           lab_size = 3, ggtheme = ggplot2::theme_minimal())"
   ]
  },
  {
   "cell_type": "markdown",
   "id": "4ec6ed0f-1eca-4de6-817d-6f4189b42d5c",
   "metadata": {},
   "source": [
    "####   marital_status"
   ]
  },
  {
   "cell_type": "code",
   "execution_count": null,
   "id": "6f14ce1c-1e7c-45b3-89cd-738b8367686d",
   "metadata": {},
   "outputs": [],
   "source": [
    "# Calculate correlation coefficients\n",
    "correlation_matrix <- cor(df_train[, marital_status])\n",
    "\n",
    "# Create a heatmap\n",
    "ggcorrplot(correlation_matrix, label = TRUE, type = \"lower\", \n",
    "           title = \"Correlation Matrix (Features vs. Target)\", \n",
    "           lab_size = 3, ggtheme = ggplot2::theme_minimal())"
   ]
  },
  {
   "cell_type": "markdown",
   "id": "d3f582ae-925b-4142-8d7d-7e01630984b9",
   "metadata": {},
   "source": [
    "### Income Correlation"
   ]
  },
  {
   "cell_type": "code",
   "execution_count": null,
   "id": "74c3c7fd-30f8-4263-a984-8421c75e161c",
   "metadata": {},
   "outputs": [],
   "source": [
    "# Calculate correlation coefficients\n",
    "correlation_matrix <- cor(df_train[, income])\n",
    "\n",
    "# Create a heatmap\n",
    "ggcorrplot(correlation_matrix, label = TRUE, type = \"lower\", \n",
    "           title = \"Correlation Matrix (Features vs. Target)\", \n",
    "           lab_size = 3, ggtheme = ggplot2::theme_minimal())"
   ]
  },
  {
   "cell_type": "markdown",
   "id": "c7442bcd-166f-448e-a661-546ea86d7295",
   "metadata": {},
   "source": [
    "#### Socio-economic factors"
   ]
  },
  {
   "cell_type": "code",
   "execution_count": null,
   "id": "18fe56f2-e524-43de-8de8-1cc8e18d39e6",
   "metadata": {},
   "outputs": [],
   "source": [
    "# Calculate correlation coefficients\n",
    "correlation_matrix <- cor(df_train[, socioeconomic_factors])\n",
    "\n",
    "# Create a heatmap\n",
    "ggcorrplot(correlation_matrix, label = TRUE, type = \"lower\", \n",
    "           title = \"Correlation Matrix (Features vs. Target)\", \n",
    "           lab_size = 3, ggtheme = ggplot2::theme_minimal())"
   ]
  },
  {
   "cell_type": "markdown",
   "id": "6485f1d8-7141-4a04-a2c7-c644563fd43d",
   "metadata": {},
   "source": [
    "#### Education"
   ]
  },
  {
   "cell_type": "code",
   "execution_count": null,
   "id": "cca03f73-eac6-47e0-af70-428ececab763",
   "metadata": {},
   "outputs": [],
   "source": [
    "# Calculate correlation coefficients\n",
    "correlation_matrix <- cor(df_train[, education])\n",
    "\n",
    "# Create a heatmap\n",
    "ggcorrplot(correlation_matrix, label = TRUE, type = \"lower\", \n",
    "           title = \"Correlation Matrix (Features vs. Target)\", \n",
    "           lab_size = 3, ggtheme = ggplot2::theme_minimal())"
   ]
  },
  {
   "cell_type": "markdown",
   "id": "15e250b5-fa64-4fcc-9d41-f6a448a16951",
   "metadata": {},
   "source": [
    "#### Employment"
   ]
  },
  {
   "cell_type": "code",
   "execution_count": null,
   "id": "5525b7a0-eaad-4da0-99b6-213134f9fe3e",
   "metadata": {},
   "outputs": [],
   "source": [
    "# Calculate correlation coefficients\n",
    "correlation_matrix <- cor(df_train[, employment])\n",
    "\n",
    "# Create a heatmap\n",
    "ggcorrplot(correlation_matrix, label = TRUE, type = \"lower\", \n",
    "           title = \"Correlation Matrix (Features vs. Target)\", \n",
    "           lab_size = 3, ggtheme = ggplot2::theme_minimal())"
   ]
  },
  {
   "cell_type": "markdown",
   "id": "18e8f868-52f8-4555-9165-05a51fd2711c",
   "metadata": {},
   "source": [
    "#### Other"
   ]
  },
  {
   "cell_type": "code",
   "execution_count": null,
   "id": "c9a88376-6614-492b-a827-0d607a003eea",
   "metadata": {},
   "outputs": [],
   "source": [
    "# Calculate correlation coefficients\n",
    "correlation_matrix <- cor(df_train[, other])\n",
    "\n",
    "# Create a heatmap\n",
    "ggcorrplot(correlation_matrix, label = TRUE, type = \"lower\", \n",
    "           title = \"Correlation Matrix (Features vs. Target)\", \n",
    "           lab_size = 3, ggtheme = ggplot2::theme_minimal())"
   ]
  },
  {
   "cell_type": "markdown",
   "id": "881c0469-6d66-4a3d-b128-3bc770486f26",
   "metadata": {},
   "source": [
    "### Correlation between each features and the target using .corr() with spearman and pearson methods"
   ]
  },
  {
   "cell_type": "code",
   "execution_count": null,
   "id": "0cb9e75d-a67f-4fae-a43c-204eef01dd40",
   "metadata": {},
   "outputs": [],
   "source": [
    "# Calculate Spearman correlation\n",
    "df_train %>%\n",
    "  cor(method = \"spearman\") %>%\n",
    "  .$target_col %>%\n",
    "  abs() %>%\n",
    "  sort(decreasing = TRUE)"
   ]
  },
  {
   "cell_type": "code",
   "execution_count": null,
   "id": "65e1c4e2-a65b-4f16-abf1-cac013d30cd7",
   "metadata": {},
   "outputs": [],
   "source": []
  },
  {
   "cell_type": "code",
   "execution_count": null,
   "id": "45971e53-b301-4cfb-9ec2-aeb99a2ccea5",
   "metadata": {},
   "outputs": [],
   "source": []
  },
  {
   "cell_type": "markdown",
   "id": "8f304df6-53f8-40f2-890e-641045d3d975",
   "metadata": {},
   "source": [
    "# Regression modeling"
   ]
  },
  {
   "cell_type": "code",
   "execution_count": null,
   "id": "6feaa8e3-6d00-4fc9-8f8a-0b6f19a6268f",
   "metadata": {},
   "outputs": [],
   "source": []
  },
  {
   "cell_type": "code",
   "execution_count": null,
   "id": "8acfee31-b9d3-4f21-ad17-60351b1c96a6",
   "metadata": {},
   "outputs": [],
   "source": []
  }
 ],
 "metadata": {
  "kernelspec": {
   "display_name": "",
   "name": ""
  },
  "language_info": {
   "name": ""
  }
 },
 "nbformat": 4,
 "nbformat_minor": 5
}
