{
 "cells": [
  {
   "cell_type": "markdown",
   "id": "956d3a36-3445-4931-baf2-7bb035612665",
   "metadata": {},
   "source": [
    "# Exploratory Data Analysis (EDA)\n",
    "\n",
    "### Datathon challenge task\n",
    "Predict the duration of time it takes for patients to receive metastatic cancer diagnosis.\n",
    "\n",
    "### EDA Techniques\n",
    "- Analysis\n",
    "    - Load data\n",
    "    - Understand the data:\n",
    "        - Categorize the types of features\n",
    "        - Data shape, types, missing (null) values, unique values\n",
    "        - Categorical vs numeric data, and which of the categorical data is ordinal (has an order)\n",
    "        - Statistical analysis\n",
    "        - Visualizations\n",
    "            - Univariate\n",
    "            - Bivariate\n",
    "            - Multivariate\n",
    "    - Feature correlations\n",
    "- Cleaning\n",
    "    - Removing features\n",
    "    - Handling missing data\n",
    "    - Encoding categorical variables\n",
    "- Feature engineering\n"
   ]
  },
  {
   "cell_type": "code",
   "execution_count": null,
   "id": "7f086ee9-d403-4098-8971-6c9b39d3a8fa",
   "metadata": {},
   "outputs": [],
   "source": [
    "#pip install seaborn"
   ]
  },
  {
   "cell_type": "code",
   "execution_count": null,
   "id": "bea50d42-849b-4722-80fd-98c698f6027f",
   "metadata": {},
   "outputs": [],
   "source": [
    "# Import libraries\n",
    "\n",
    "import pandas as pd\n",
    "import numpy as np\n",
    "from sklearn.preprocessing import LabelEncoder, OrdinalEncoder, RobustScaler\n",
    "import seaborn as sns\n",
    "import matplotlib.pyplot as plt\n",
    "%matplotlib inline\n",
    "sns.set(style=\"whitegrid\")"
   ]
  },
  {
   "cell_type": "markdown",
   "id": "13601f23-cb31-42ef-9c0a-1f28e7a22059",
   "metadata": {},
   "source": [
    "# Analysis"
   ]
  },
  {
   "cell_type": "markdown",
   "id": "0068432f-be12-4e19-a4bf-d50f00657c65",
   "metadata": {},
   "source": [
    "## Load data"
   ]
  },
  {
   "cell_type": "code",
   "execution_count": null,
   "id": "a5ee57ba-dd31-4454-a8b0-88346a67f202",
   "metadata": {},
   "outputs": [],
   "source": [
    "# Load .csv data as dataframes and make patient_id the index\n",
    "\n",
    "df_train = pd.read_csv('data/train.csv', index_col='patient_id')\n",
    "df_test = pd.read_csv('data/test.csv', index_col='patient_id')\n",
    "\n",
    "# Look at the first few rows of data\n",
    "df_train.head()"
   ]
  },
  {
   "cell_type": "markdown",
   "id": "df12b453-b14c-4d72-843a-722bf7cdf199",
   "metadata": {},
   "source": [
    "## Understand the data"
   ]
  },
  {
   "cell_type": "markdown",
   "id": "d6ac9462-e712-4dd0-b9d5-79b4e00156bb",
   "metadata": {},
   "source": [
    "### Categorize the types of features\n",
    "\n",
    "Read the [data descriptions](https://www.kaggle.com/competitions/widsdatathon2024-challenge2/data) on Kaggle.\n",
    "\n",
    "**Patient characteristics:** patient_race, payer_type, patient_age, patient_gender, bmi\n",
    "\n",
    "**Patient location:** patient_state, patient_zip3, region, division\n",
    "\n",
    "**Breast cancer diagnosis information:** breast_cancer_diagnosis_code, breast_cancer_diagnosis_desc, metastatic_cancer_diagnosis_code, \n",
    "    metastatic_first_novel_treatment, metastatic_first_novel_treatment_type\n",
    "\n",
    "**Geo (zip-code level) demographic data:** Many! (population, income, education, rent, race, poverty etc)\n",
    "\n",
    "**Climate data:** 72 columns showing the zip 3 Monthly Average Temperature for the patient’s zip 3 and month referenced\n",
    "\n",
    "**Target variable:** metastatic_diagnosis_period"
   ]
  },
  {
   "cell_type": "code",
   "execution_count": null,
   "id": "674e278e-fe09-4f81-91de-8863da7d1b9e",
   "metadata": {},
   "outputs": [],
   "source": [
    "# Define a function that shows the data dimensions (# rows and columns), total # NA values, and data types, \n",
    "# number of distinct NA (null) values for each column (feature)\n",
    "\n",
    "def initial_eda(df):\n",
    "    if isinstance(df, pd.DataFrame):\n",
    "        total_na = df.isna().sum().sum()\n",
    "        print(\"Dimensions : %d rows, %d columns\" % (df.shape[0], df.shape[1]))\n",
    "        print(\"Total NA Values : %d \" % (total_na))\n",
    "        print(\"%38s %10s     %10s %10s\" % (\"Column Name\", \"Data Type\", \"#Distinct\", \"NaN Values\"))\n",
    "        col_name = df.columns\n",
    "        dtyp = df.dtypes\n",
    "        uniq = df.nunique()\n",
    "        na_val = df.isna().sum()\n",
    "        for i in range(len(df.columns)):\n",
    "            print(\"%38s %10s   %10s %10s\" % (col_name[i], dtyp[i], uniq[i], na_val[i]))\n",
    "        \n",
    "    else:\n",
    "        print(\"Expect a DataFrame but got a %15s\" % (type(df)))"
   ]
  },
  {
   "cell_type": "code",
   "execution_count": null,
   "id": "b9026876-2cf9-46ac-8588-6ab1dc02c6c5",
   "metadata": {},
   "outputs": [],
   "source": [
    "# Call the function on our training data\n",
    "\n",
    "initial_eda(df_train)"
   ]
  },
  {
   "cell_type": "code",
   "execution_count": null,
   "id": "7680355a-533d-4ace-8ece-6c924942f0a9",
   "metadata": {},
   "outputs": [],
   "source": [
    "# Call the function on our testing data\n",
    "\n",
    "initial_eda(df_test)"
   ]
  },
  {
   "cell_type": "markdown",
   "id": "4792931b-f5be-45c7-a55d-7a90f6120f37",
   "metadata": {
    "jp-MarkdownHeadingCollapsed": true
   },
   "source": [
    "#### Observations\n",
    "\n",
    "**Data types**\n",
    "\n",
    "- 11 object types in train and test - these are categorical features\n",
    "    - None of these seem to be ordinal\n",
    "\n",
    "- 3 integer types in train, 2 in test - zip, age, and the target variable (metastatic_diagnosis_period)\n",
    "\n",
    "- The rest of the features are floats\n",
    "\n",
    "**# distinct values**\n",
    "\n",
    "- Only 1 distinct value for patient_gender (female) in train and test data, so we can drop this feature\n",
    "\n",
    "- Only 1 distinct value for metastatic_first_novel_treatment_type in train and test data, and only 11 rows contain a value in train and 7 in test, so we can drop this feature\n",
    "\n",
    "- Only 2 distinct values for metastatic_first_novel_treatment in train and test data, and only 11 rows contain a value in train and 7 in test, so we can probably drop this feature, but look for any strong correlation with the target feature\n",
    "\n",
    "- patient_zip3 and population have the same number of unique values in train (751) and test (669), so do we need them both? \n",
    "Population is a size, so it might be important. Is zip random? How strong is the correlation with the target variable?\n",
    "\n",
    "**NaN values - need to start thinking about how to handle these**\n",
    "\n",
    "- patient_race: ~half are missing in train and test\n",
    "\n",
    "- payer_type: 13-14% are missing in train and test\n",
    "\n",
    "- bmi: 69-70% are missing in train and test\n",
    "\n",
    "- metastatic_cancer_diagnosis_code and metastatic_first_novel_treatment_type: almost all are missing\n",
    "\n",
    "- Several features (23) are missing 5 values in the train data but none of those are missing in the test data. Are the 5 missing values for\n",
    "each feature in the same row? If so, can we just drop those rows? (Yes, all are in the same rows and they are in the same zip, and those\n",
    "are the only 5 records for that zip, but that zip is not in the test data, so we can probably drop them.)\n",
    "\n",
    "- Avg temps: Missing 0-180 in train and 0-95 in test. The 180/95 are in Apr-14 and are all in NY (6 zips) or ID (1 zip) in both train\n",
    "and test\n"
   ]
  },
  {
   "cell_type": "markdown",
   "id": "79af5510-8f18-4330-a993-f127232669a5",
   "metadata": {},
   "source": [
    "### Drop features and observations that logically add no value"
   ]
  },
  {
   "cell_type": "code",
   "execution_count": null,
   "id": "9430d35d-ed87-41d2-91b3-25b6763b4ff8",
   "metadata": {},
   "outputs": [],
   "source": [
    "# Drop features\n",
    "\n",
    "# Only one value for patient_gender\n",
    "# Only one value for metastatic_first_novel_treatment_type and two values for metastatic_first_novel_treatment, \n",
    "# and there are only 11 non-null rows in the train data, and 7 non-null in the test data\n",
    "\n",
    "drop_features = [\n",
    "                    'metastatic_first_novel_treatment',         # rarely filled in\n",
    "                    'metastatic_first_novel_treatment_type',    # rarely filled in\n",
    "                    'patient_gender',                           # always the same value\n",
    "                   ]\n",
    "\n",
    "# Always perform the same actions on train and test data\n",
    "df_train = df_train.drop(drop_features, axis=1)\n",
    "df_test = df_test.drop(drop_features, axis=1)\n"
   ]
  },
  {
   "cell_type": "code",
   "execution_count": null,
   "id": "5051972c-538c-48dc-95f7-1dad5253141a",
   "metadata": {},
   "outputs": [],
   "source": [
    "# Drop rows\n",
    "\n",
    "# Drop the 5 rows that have 23 missing features all from the same zip; that zip is not present in the test set\n",
    "mask = (df_train['patient_zip3'] == 772)\n",
    "df_train = df_train.drop(df_train[df_train['patient_zip3'] == 772].index)\n",
    "\n",
    "# Check the shape (originally we had 13173 rows)\n",
    "df_train.shape"
   ]
  },
  {
   "cell_type": "markdown",
   "id": "21b8dd47-365b-4ab9-8d94-b618aba613f3",
   "metadata": {},
   "source": [
    "### Statistical summary"
   ]
  },
  {
   "cell_type": "code",
   "execution_count": null,
   "id": "d257c658-8854-49ab-aeb4-eae6b25deca4",
   "metadata": {},
   "outputs": [],
   "source": [
    "# Do not truncate\n",
    "\n",
    "pd.set_option('display.max_columns', None)\n",
    "pd.set_option('display.max_rows', None)"
   ]
  },
  {
   "cell_type": "code",
   "execution_count": null,
   "id": "44aa0530-3ca8-400d-bb2f-617433cad8bf",
   "metadata": {},
   "outputs": [],
   "source": [
    "print(df_train.describe())"
   ]
  },
  {
   "cell_type": "code",
   "execution_count": null,
   "id": "ad0e3098",
   "metadata": {},
   "outputs": [],
   "source": [
    "print(df_test.describe())"
   ]
  },
  {
   "cell_type": "markdown",
   "id": "597a8af6-90b2-46dc-83d2-b8f3046cc959",
   "metadata": {},
   "source": [
    "#### Observations\n",
    "\n",
    "**patient_zip3** max in test is different than train so we know there are values in test that are not in train (and probably vice versa)\n",
    "\n",
    "**patient_age** range from 18-91\n",
    "\n",
    "**bmi** max is 97 in train but only 43.7 in test! Looking closer, there is one 90 and one 97 in the train data, which are anomalies,\n",
    "perhaps we remove those rows\n",
    "\n",
    "**target variable** min=0, max=365, mean=96.5, std=109, count of 0=3126, count >= 350=224"
   ]
  },
  {
   "cell_type": "markdown",
   "id": "6c0f3511-bb09-42ec-a235-120812573e69",
   "metadata": {},
   "source": [
    "### Categorical vs numerical features"
   ]
  },
  {
   "cell_type": "code",
   "execution_count": null,
   "id": "8a7a3602-56a5-4825-8c50-3c78cae06226",
   "metadata": {},
   "outputs": [],
   "source": [
    "# Create variables for the categorical and numeric features of df_train (df_test will be the same except the target col)\n",
    "# Also create a variable for the target column\n",
    "\n",
    "cat_cols=df_train.select_dtypes(include=['object']).columns\n",
    "num_cols = df_train.select_dtypes(include=np.number).columns.tolist()\n",
    "target_col = 'metastatic_diagnosis_period'\n",
    "print(\"Categorical Variables:\")\n",
    "print(cat_cols)\n",
    "print(\"Numerical Variables:\")\n",
    "print(num_cols)"
   ]
  },
  {
   "cell_type": "markdown",
   "id": "92a1fa83-7f4f-4643-9416-bc18e288d3d4",
   "metadata": {},
   "source": [
    "### Compare unique values in df_train and df_test\n",
    "\n",
    "Which features are present in the training data but not in the test data, and vice versa"
   ]
  },
  {
   "cell_type": "code",
   "execution_count": null,
   "id": "eef44d7c-6dee-468a-8da0-fe8506fe520e",
   "metadata": {},
   "outputs": [],
   "source": [
    "# Iterate over the columns of df_train\n",
    "for col in df_train.columns:\n",
    "    # Check if the column exists in df_test\n",
    "    if col in df_test.columns:\n",
    "        # Get the unique values of col in df_train\n",
    "        unique_values_train = df_train[col].unique()\n",
    "        # Get the unique values of col in df_test\n",
    "        unique_values_test = df_test[col].unique()\n",
    "        # Find the differences between the two sets\n",
    "        differences = set(unique_values_train) - set(unique_values_test)\n",
    "        diff_count = len(differences)\n",
    "        if len(differences) > 0:\n",
    "            print(f\"{col} has the following unique values that are not present in the test dataset: {differences}\")\n",
    "            print(f\"{col} has the following number of differences: {diff_count}\")"
   ]
  },
  {
   "cell_type": "code",
   "execution_count": null,
   "id": "cd0f2f01-0881-4a63-93c5-617133ad898c",
   "metadata": {},
   "outputs": [],
   "source": [
    "# Iterate over the columns of df_test\n",
    "for col in df_test.columns:\n",
    "    # Check if the column exists in df_test\n",
    "    if col in df_train.columns:\n",
    "        # Get the unique values of col in df_train\n",
    "        unique_values_test = df_test[col].unique()\n",
    "        # Get the unique values of col in df_test\n",
    "        unique_values_train = df_train[col].unique()\n",
    "        # Find the differences between the two sets\n",
    "        differences = set(unique_values_test) - set(unique_values_train)\n",
    "        diff_count = len(differences)\n",
    "        if len(differences) > 0:\n",
    "            print(f\"{col} has the following unique values that are not present in the train dataset: {differences}\")\n",
    "            print(f\"{col} has the following number of differences: {diff_count}\")"
   ]
  },
  {
   "cell_type": "markdown",
   "id": "f97820c9-4d76-4f1c-8c8d-f41ba2ffa78c",
   "metadata": {},
   "source": [
    "#### Observations\n",
    "\n",
    "**patient_race, payer_type, patient_state, Region, Division, patient_age** Same values in train and test\n",
    "\n",
    "**patient_zip3 and population** Train has 93 zips/populations not in test, test has 12 zips/populations not in train\n",
    "\n",
    "**breast_cancer_diagnosis_code** Train has 7 values not in test (but just 1 or a few occurences of each), test has 1 value not in train (but only 1 occurrence of it)\n",
    "\n",
    "**metastatic_cancer_diagnosis_code** Train has 7 values not in test (but just 1 or a few occurences of each), test has 2 values not in train (but only 1 occurrence of each)"
   ]
  },
  {
   "cell_type": "markdown",
   "id": "d5e960c8-1c98-4bac-8fe2-03d93ab5d8be",
   "metadata": {},
   "source": [
    "### Visualizations\n",
    "\n",
    "Categorical variables can be visualized using a Count plot, Bar Chart, Pie Plot, etc.\n",
    "\n",
    "Numerical Variables can be visualized using Histogram, Box Plot, Density Plot, etc."
   ]
  },
  {
   "cell_type": "markdown",
   "id": "5a549ebe-6082-4dc4-b3a2-b01a3ac9dc70",
   "metadata": {},
   "source": [
    "#### Univariate analysis\n",
    "\n",
    "Looks at each feature individually"
   ]
  },
  {
   "cell_type": "code",
   "execution_count": null,
   "id": "5f3c53f4-c1ad-400e-bee0-87e782c28042",
   "metadata": {},
   "outputs": [],
   "source": [
    "# Histogram and box plot of numerical data for df_train\n",
    "\n",
    "for col in num_cols:\n",
    "    print(col)\n",
    "    print('Skew :', round(df_train[col].skew(), 2))\n",
    "    plt.figure(figsize = (15, 4))\n",
    "    plt.subplot(1, 2, 1)\n",
    "    df_train[col].hist(grid=False)\n",
    "    plt.ylabel('count')\n",
    "    plt.subplot(1, 2, 2)\n",
    "    sns.boxplot(x=df_train[col])\n",
    "    plt.show()"
   ]
  },
  {
   "cell_type": "code",
   "execution_count": null,
   "id": "d428d3bc-50ef-4a5a-9a80-6ae07f53d1a0",
   "metadata": {},
   "outputs": [],
   "source": [
    "# Histogram and box plot of numerical data for df_test\n",
    "\n",
    "for col in num_cols:\n",
    "    print(col)\n",
    "    print('Skew :', round(df_test[col].skew(), 2))\n",
    "    plt.figure(figsize = (15, 4))\n",
    "    plt.subplot(1, 2, 1)\n",
    "    df_test[col].hist(grid=False)\n",
    "    plt.ylabel('count')\n",
    "    plt.subplot(1, 2, 2)\n",
    "    sns.boxplot(x=df_test[col])\n",
    "    plt.show()"
   ]
  },
  {
   "cell_type": "markdown",
   "id": "1ffb2270-70ea-45c3-9f9b-37cb60d13f08",
   "metadata": {},
   "source": [
    "#### Observations of data\n",
    "\n",
    "**bmi** 3 major outliers for train data, perhaps we drop those rows\n",
    "\n",
    "**density** is quite skewed and has many outliers, but same for both data sets\n",
    "\n",
    "**metastatic_diagnosis_period** Median is less than 50 days, has a right positive skew\n",
    "\n",
    "**age_over_80** Out of proportion between the data sets based on histograms (box plots are very similar)\n"
   ]
  },
  {
   "cell_type": "code",
   "execution_count": null,
   "id": "b92225c3-e249-4987-b438-9ff5eb9a2ff4",
   "metadata": {},
   "outputs": [],
   "source": [
    "print(cat_cols)"
   ]
  },
  {
   "cell_type": "code",
   "execution_count": null,
   "id": "81faeae7-4e0f-49a1-a9e4-79408bcb8b2e",
   "metadata": {},
   "outputs": [],
   "source": [
    "# Count plot of categorical data for df_train\n",
    "\n",
    "fig, axes = plt.subplots(4, 2, figsize = (18, 18))\n",
    "fig.suptitle('Bar plot for all categorical variables in the dataset')\n",
    "sns.countplot(ax = axes[0, 0], x = 'patient_race', data = df_train, color = 'blue', \n",
    "              order = df_train['patient_race'].value_counts().index);\n",
    "sns.countplot(ax = axes[0, 1], x = 'payer_type', data = df_train, color = 'blue', \n",
    "              order = df_train['payer_type'].value_counts().index);\n",
    "sns.countplot(ax = axes[1, 0], x = 'patient_state', data = df_train, color = 'blue', \n",
    "              order = df_train['patient_state'].value_counts().index);\n",
    "sns.countplot(ax = axes[1, 1], x = 'Region', data = df_train, color = 'blue', \n",
    "              order = df_train['Region'].value_counts().index);\n",
    "sns.countplot(ax = axes[2, 0], x = 'Division', data = df_train, color = 'blue', \n",
    "              order = df_train['Division'].value_counts().index);\n",
    "sns.countplot(ax = axes[2, 1], x = 'breast_cancer_diagnosis_code', data = df_train, color = 'blue', \n",
    "              order = df_train['breast_cancer_diagnosis_code'].value_counts().index);\n",
    "sns.countplot(ax = axes[3, 0], x = 'breast_cancer_diagnosis_desc', data = df_train, color = 'blue', \n",
    "              order = df_train['breast_cancer_diagnosis_desc'].value_counts().index);\n",
    "sns.countplot(ax = axes[3, 1], x = 'metastatic_cancer_diagnosis_code', data = df_train, color = 'blue', \n",
    "              order = df_train['metastatic_cancer_diagnosis_code'].value_counts().index);\n",
    "\n",
    "axes[1][0].tick_params(labelrotation=90);\n",
    "axes[2][0].tick_params(labelrotation=45);\n",
    "axes[2][1].tick_params(labelrotation=90);\n",
    "axes[3][0].tick_params(labelrotation=90);\n",
    "axes[3][1].tick_params(labelrotation=90);"
   ]
  },
  {
   "cell_type": "code",
   "execution_count": null,
   "id": "961a9a81-eb9f-4c43-9e43-e6fd3b5d88c8",
   "metadata": {},
   "outputs": [],
   "source": [
    "# Count plot of categorical data for df_test\n",
    "\n",
    "fig, axes = plt.subplots(4, 2, figsize = (18, 18))\n",
    "fig.suptitle('Bar plot for all categorical variables in the dataset')\n",
    "sns.countplot(ax = axes[0, 0], x = 'patient_race', data = df_test, color = 'blue', \n",
    "              order = df_test['patient_race'].value_counts().index);\n",
    "sns.countplot(ax = axes[0, 1], x = 'payer_type', data = df_test, color = 'blue', \n",
    "              order = df_test['payer_type'].value_counts().index);\n",
    "sns.countplot(ax = axes[1, 0], x = 'patient_state', data = df_test, color = 'blue', \n",
    "              order = df_test['patient_state'].value_counts().index);\n",
    "sns.countplot(ax = axes[1, 1], x = 'Region', data = df_test, color = 'blue', \n",
    "              order = df_test['Region'].value_counts().index);\n",
    "sns.countplot(ax = axes[2, 0], x = 'Division', data = df_test, color = 'blue', \n",
    "              order = df_test['Division'].value_counts().index);\n",
    "sns.countplot(ax = axes[2, 1], x = 'breast_cancer_diagnosis_code', data = df_test, color = 'blue', \n",
    "              order = df_test['breast_cancer_diagnosis_code'].value_counts().index);\n",
    "sns.countplot(ax = axes[3, 0], x = 'breast_cancer_diagnosis_desc', data = df_test, color = 'blue', \n",
    "              order = df_test['breast_cancer_diagnosis_desc'].value_counts().index);\n",
    "sns.countplot(ax = axes[3, 1], x = 'metastatic_cancer_diagnosis_code', data = df_test, color = 'blue', \n",
    "              order = df_test['metastatic_cancer_diagnosis_code'].value_counts().index);\n",
    "\n",
    "axes[1][0].tick_params(labelrotation=90);\n",
    "axes[2][0].tick_params(labelrotation=45);\n",
    "axes[2][1].tick_params(labelrotation=90);\n",
    "axes[3][0].tick_params(labelrotation=90);\n",
    "axes[3][1].tick_params(labelrotation=90);\n"
   ]
  },
  {
   "cell_type": "code",
   "execution_count": null,
   "id": "5bf3a829-4343-4b66-bae9-635f3a9082bb",
   "metadata": {
    "scrolled": true
   },
   "outputs": [],
   "source": [
    "# Group the data by breast_cancer_diagnosis_code and calculate the mean metastatic_diagnosis_period\n",
    "\n",
    "grouped_data = df_train.groupby(\"breast_cancer_diagnosis_code\").mean()[\"metastatic_diagnosis_period\"]\n",
    "grouped_data.head()"
   ]
  },
  {
   "cell_type": "code",
   "execution_count": null,
   "id": "ceee19fe-6441-41bb-a806-6c06c6934090",
   "metadata": {},
   "outputs": [],
   "source": [
    "# Plot a bar chart of the mean metastatic_diagnosis_period for each breast_cancer_diagnosis_code\n",
    "\n",
    "plt.figure(figsize=(15, 8))\n",
    "plt.bar(range(len(grouped_data)), grouped_data)\n",
    "plt.xticks(range(len(grouped_data)), grouped_data.index, rotation=90)\n",
    "plt.xlabel(\"Diagnosis Code\")\n",
    "plt.ylabel(\"Mean Metastatic Diagnosis Period\")\n",
    "plt.title(\"Mean Metastatic Diagnosis Period for Each Breast Cancer Diagnosis Code\")\n",
    "plt.show()"
   ]
  },
  {
   "cell_type": "code",
   "execution_count": null,
   "id": "3c4332da-e93d-46d0-b1eb-81207f881280",
   "metadata": {},
   "outputs": [],
   "source": [
    "# Group the data by metastatic_cancer_diagnosis_code and calculate the mean metastatic_diagnosis_period\n",
    "\n",
    "grouped_data = df_train.groupby(\"metastatic_cancer_diagnosis_code\").mean()[\"metastatic_diagnosis_period\"]\n",
    "grouped_data.head()"
   ]
  },
  {
   "cell_type": "code",
   "execution_count": null,
   "id": "11f728c0-a6b4-4f88-ba47-87ac4a9aa582",
   "metadata": {},
   "outputs": [],
   "source": [
    "# Plot a bar chart of the mean metastatic_diagnosis_period for each metastatic_cancer_diagnosis_code\n",
    "\n",
    "plt.figure(figsize=(15, 8))\n",
    "plt.bar(range(len(grouped_data)), grouped_data)\n",
    "plt.xticks(range(len(grouped_data)), grouped_data.index, rotation=90)\n",
    "plt.xlabel(\"Diagnosis Code\")\n",
    "plt.ylabel(\"Mean Metastatic Diagnosis Period\")\n",
    "plt.title(\"Mean Metastatic Diagnosis Period for Each Metastatic Cancer Diagnosis Code\")\n",
    "plt.show()"
   ]
  },
  {
   "cell_type": "markdown",
   "id": "ac7eb348-8afe-4713-8ecc-8da16f861327",
   "metadata": {},
   "source": [
    "## Visualizations - bivariate analysis"
   ]
  },
  {
   "cell_type": "code",
   "execution_count": null,
   "id": "9e326064-896f-4940-849f-01ea897d15ab",
   "metadata": {},
   "outputs": [],
   "source": [
    "print(cat_cols)"
   ]
  },
  {
   "cell_type": "code",
   "execution_count": null,
   "id": "468411eb-8324-49e2-ae4d-f930265afa79",
   "metadata": {},
   "outputs": [],
   "source": [
    "print(df_train['breast_cancer_diagnosis_code'].unique())"
   ]
  },
  {
   "cell_type": "code",
   "execution_count": null,
   "id": "25e29367-f5e1-4547-b0c2-5d6b50564358",
   "metadata": {},
   "outputs": [],
   "source": [
    "# Use bar plot to show the relationship between Categorical variables and the target continuous variables \n",
    "\n",
    "fig, axarr = plt.subplots(4, 2, figsize=(18, 24))\n",
    "df_train.groupby('patient_race')[target_col].mean().sort_values(ascending=False).plot.bar(ax=axarr[0][0], fontsize=12)\n",
    "axarr[0][0].set_title(\"patient_race Vs target\", fontsize=18)\n",
    "df_train.groupby('payer_type')[target_col].mean().sort_values(ascending=False).plot.bar(ax=axarr[0][1], fontsize=12)\n",
    "axarr[0][1].set_title(\"payer_type Vs target\", fontsize=18)\n",
    "df_train.groupby('patient_state')[target_col].mean().sort_values(ascending=False).head(20).plot.bar(ax=axarr[1][0], fontsize=12)\n",
    "axarr[1][0].set_title(\"patient_state top 10\", fontsize=18)\n",
    "df_train.groupby('Region')[target_col].mean().sort_values(ascending=False).plot.bar(ax=axarr[1][1], fontsize=12)\n",
    "axarr[1][1].set_title(\"Region Vs target\", fontsize=18)\n",
    "df_train.groupby('Division')[target_col].mean().sort_values(ascending=False).plot.bar(ax=axarr[2][0], fontsize=12)\n",
    "axarr[2][0].set_title(\"Division Vs target\", fontsize=18)\n",
    "df_train.groupby('breast_cancer_diagnosis_code')[target_col].mean().sort_values(ascending=False).plot.bar(ax=axarr[2][1], fontsize=12)\n",
    "axarr[2][1].set_title(\"breast_cancer_diagnosis_code Vs target\", fontsize=18)\n",
    "df_train.groupby('breast_cancer_diagnosis_desc')[target_col].mean().sort_values(ascending=False).plot.bar(ax=axarr[3][0], fontsize=12)\n",
    "axarr[3][0].set_title(\"breast_cancer_diagnosis_desc Vs target\", fontsize=18)\n",
    "df_train.groupby('metastatic_cancer_diagnosis_code')[target_col].mean().sort_values(ascending=False).plot.bar(ax=axarr[3][1], fontsize=12)\n",
    "axarr[3][1].set_title(\"metastatic_cancer_diagnosis_code Vs target\", fontsize=18)\n",
    "plt.subplots_adjust(hspace=1.0)\n",
    "plt.subplots_adjust(wspace=.5)\n",
    "sns.despine()"
   ]
  },
  {
   "cell_type": "code",
   "execution_count": null,
   "id": "f5a5f1bf-a59c-461f-981d-39d623b2f608",
   "metadata": {},
   "outputs": [],
   "source": [
    "\n",
    "\n",
    "plt.figure(figsize=(15, 8))\n",
    "df_train.groupby('patient_state')[target_col].mean().sort_values(ascending=False).plot.bar(fontsize=12)\n",
    "plt.show()"
   ]
  },
  {
   "cell_type": "markdown",
   "id": "d28e4943-0740-4eb8-8e7b-1d8aeaf4a0c8",
   "metadata": {},
   "source": [
    "## Clean data"
   ]
  },
  {
   "cell_type": "code",
   "execution_count": null,
   "id": "804dbd65-8659-4ae6-b91a-079e24fa69c9",
   "metadata": {},
   "outputs": [],
   "source": [
    "# Data prep - replace categorical column nulls with 'unknown'\n",
    "\n",
    "for column in cat_cols:\n",
    "    df_train[column] = df_train[column].mask(df_train[column].isnull(), 'unknown')\n",
    "    df_test[column] = df_test[column].mask(df_test[column].isnull(), 'unknown')"
   ]
  },
  {
   "cell_type": "code",
   "execution_count": null,
   "id": "3738dffd-ba32-42b5-bd87-8c022974bc5a",
   "metadata": {},
   "outputs": [],
   "source": [
    "# Drop target from num_cols\n",
    "\n",
    "num_cols.remove(target_col)"
   ]
  },
  {
   "cell_type": "code",
   "execution_count": null,
   "id": "3cd1119b-c732-4e94-8e83-19fbf875fbc4",
   "metadata": {},
   "outputs": [],
   "source": [
    "# Data prep - remaining nulls are in numeric columns - convert them to mean values from df_train\n",
    "# (since df_train has more data and will likely have a more representative mean value than df_test)\n",
    "\n",
    "for column in num_cols:\n",
    "    mean_value = df_train[column].mean()\n",
    "    df_train[column] = df_train[column].mask(df_train[column].isnull(), mean_value)\n",
    "    df_test[column] = df_test[column].mask(df_test[column].isnull(), mean_value) \n",
    "\n",
    "df_train.head()\n",
    "\n",
    "# Alternatively, assign large numbers to nulls in numeric columns\n",
    "'''\n",
    "for column in num_cols:\n",
    "    replacement_value = 1000000\n",
    "    df_train[column] = df_train[column].mask(df_train[column].isnull(), replacement_value)\n",
    "    df_test[column] = df_test[column].mask(df_test[column].isnull(), replacement_value) \n",
    "\n",
    "df_train.head()\n",
    "'''"
   ]
  },
  {
   "cell_type": "code",
   "execution_count": null,
   "id": "8130e371-29f8-43bb-933e-7dfd7c3e1f10",
   "metadata": {},
   "outputs": [],
   "source": [
    "# Convert categorical columns to numbers using LabelEncoder()\n",
    "\n",
    "for column in cat_cols:\n",
    "    df_combined = pd.concat([df_train, df_test], axis=0)\n",
    "    le = LabelEncoder()\n",
    "    le.fit(df_combined[column])\n",
    "    df_train[column] = le.transform(df_train[column])\n",
    "    df_test[column] = le.transform(df_test[column])\n",
    "\n",
    "df_train.head()"
   ]
  },
  {
   "cell_type": "code",
   "execution_count": null,
   "id": "1e395cea-e3eb-496c-b8f0-dfb281caa855",
   "metadata": {},
   "outputs": [],
   "source": [
    "df_train.isnull().sum()"
   ]
  },
  {
   "cell_type": "code",
   "execution_count": null,
   "id": "f9551627-6024-47c7-ab4b-3554f8e90903",
   "metadata": {},
   "outputs": [],
   "source": [
    "df_test.isnull().sum()"
   ]
  },
  {
   "cell_type": "code",
   "execution_count": null,
   "id": "7c884728-49b5-4c87-95df-3d26cd0f8883",
   "metadata": {},
   "outputs": [],
   "source": [
    "df_test.head()"
   ]
  },
  {
   "cell_type": "markdown",
   "id": "1fb94708-0fe0-4851-99a8-e7d292f18835",
   "metadata": {},
   "source": [
    "## Correlations"
   ]
  },
  {
   "cell_type": "markdown",
   "id": "99e5b804-3824-4056-a7df-cd5fe47ab601",
   "metadata": {},
   "source": [
    "### Correlation EDA by feature category"
   ]
  },
  {
   "cell_type": "markdown",
   "id": "7ec000ee-7b83-433a-aaf6-abf0dda1c753",
   "metadata": {},
   "source": [
    "Since there are so many features, a heatmap of all features is not comprehensible. So let us break down the features in a way that makes sense for the analysis."
   ]
  },
  {
   "cell_type": "code",
   "execution_count": null,
   "id": "22543abb-6197-4847-8fb9-a10fe7f34cd7",
   "metadata": {},
   "outputs": [],
   "source": [
    "patient_demographics = [\n",
    "    \"patient_race\",\n",
    "    \"patient_state\",\n",
    "    \"patient_zip3\",\n",
    "    \"patient_age\",\n",
    "    \"bmi\",\n",
    "    \"metastatic_diagnosis_period\"\n",
    "]\n",
    "\n",
    "diagnosis_codes = [\n",
    "    \"breast_cancer_diagnosis_code\",\n",
    "    \"metastatic_cancer_diagnosis_code\"\n",
    "]\n",
    "\n",
    "treatment = [\n",
    "    \"metastatic_first_novel_treatment\",\n",
    "    \"metastatic_first_novel_treatment_type\"\n",
    "]\n",
    "\n",
    "demographics_by_zip_code = [\n",
    "    \"population\",\n",
    "    \"density\",\n",
    "    \"age_median\",\n",
    "    \"male\",\n",
    "    \"female\",\n",
    "    \"married\",\n",
    "    \"family_size\",\n",
    "    \"income_household_median\",\n",
    "    \"income_household_six_figure\",\n",
    "    \"home_ownership\",\n",
    "    \"housing_units\",\n",
    "    \"home_value\",\n",
    "    \"rent_median\",\n",
    "    \"education_college_or_above\",\n",
    "    \"labor_force_participation\",\n",
    "    \"unemployment_rate\",\n",
    "    \"metastatic_diagnosis_period\"\n",
    "]\n",
    "\n",
    "race_and_ethnicity = [\n",
    "    \"race_white\",\n",
    "    \"race_black\",\n",
    "    \"race_asian\",\n",
    "    \"race_native\",\n",
    "    \"race_pacific\",\n",
    "    \"race_other\",\n",
    "    \"race_multiple\",\n",
    "    \"hispanic\",\n",
    "    \"metastatic_diagnosis_period\"\n",
    "]\n",
    "\n",
    "age_groups = [\n",
    "    \"age_under_10\",\n",
    "    \"age_10_to_19\",\n",
    "    \"age_20s\",\n",
    "    \"age_30s\",\n",
    "    \"age_40s\",\n",
    "    \"age_50s\",\n",
    "    \"age_60s\",\n",
    "    \"age_70s\",\n",
    "    \"age_over_80\", \n",
    "    \"metastatic_diagnosis_period\"\n",
    "]\n",
    "\n",
    "marital_status = [\n",
    "    \"divorced\",\n",
    "    \"never_married\",\n",
    "    \"widowed\",\n",
    "    \"metastatic_diagnosis_period\"\n",
    "]\n",
    "\n",
    "income = [\n",
    "    \"family_dual_income\",  # Create this feature based on family_dual_income\n",
    "    \"income_household_under_5\",\n",
    "    \"income_household_5_to_10\",\n",
    "    \"income_household_10_to_15\", \n",
    "    \"income_household_15_to_20\",\n",
    "    \"income_household_20_to_25\",\n",
    "    \"income_household_25_to_35\",\n",
    "    \"income_household_35_to_50\",\n",
    "    \"income_household_50_to_75\",\n",
    "    \"income_household_75_to_100\",\n",
    "    \"income_household_100_to_150\",\n",
    "    \"income_household_150_over\", \n",
    "    \"income_individual_median\",\n",
    "    \"metastatic_diagnosis_period\"\n",
    "]\n",
    "\n",
    "socioeconomic_factors = [\n",
    "    \"poverty\",\n",
    "    \"rent_burden\",\n",
    "    \"metastatic_diagnosis_period\"\n",
    "]\n",
    "\n",
    "education = [\n",
    "    \"education_less_highschool\",\n",
    "    \"education_highschool\",\n",
    "    \"education_some_college\",\n",
    "    \"education_bachelors\",\n",
    "    \"education_graduate\",\n",
    "    \"education_stem_degree\",\n",
    "    \"metastatic_diagnosis_period\"\n",
    "]\n",
    "\n",
    "employment = [\n",
    "    \"self_employed\",\n",
    "    \"farmer\",\n",
    "    \"metastatic_diagnosis_period\"\n",
    "]\n",
    "\n",
    "other = [\n",
    "    \"disabled\",\n",
    "    \"limited_english\",\n",
    "    \"commute_time\",\n",
    "    \"health_uninsured\",\n",
    "    \"veteran\",\n",
    "    \"metastatic_diagnosis_period\"\n",
    "]\n",
    "\n",
    "# Time-based averages (needs further handling based on your approach)\n",
    "time_based_averages = [\n",
    "    'Average of Jan-13', 'Average of Feb-13', 'Average of Mar-13', 'Average of Apr-13', 'Average of May-13', 'Average of Jun-13', 'Average of Jul-13', 'Average of Aug-13', 'Average of Sep-13', 'Average of Oct-13', 'Average of Nov-13', 'Average of Dec-13', 'Average of Jan-14', 'Average of Feb-14', 'Average of Mar-14', 'Average of Apr-14', 'Average of May-14', 'Average of Jun-14', 'Average of Jul-14', 'Average of Aug-14', 'Average of Sep-14', 'Average of Oct-14', 'Average of Nov-14', 'Average of Dec-14', 'Average of Jan-15', 'Average of Feb-15', 'Average of Mar-15', 'Average of Apr-15', 'Average of May-15', 'Average of Jun-15', 'Average of Jul-15', 'Average of Aug-15', 'Average of Sep-15', 'Average of Oct-15', 'Average of Nov-15', 'Average of Dec-15', 'Average of Jan-16', 'Average of Feb-16', 'Average of Mar-16', 'Average of Apr-16', 'Average of May-16', 'Average of Jun-16', 'Average of Jul-16', 'Average of Aug-16', 'Average of Sep-16', 'Average of Oct-16', 'Average of Nov-16', 'Average of Dec-16', 'Average of Jan-17', 'Average of Feb-17', 'Average of Mar-17', 'Average of Apr-17', 'Average of May-17', 'Average of Jun-17', 'Average of Jul-17', 'Average of Aug-17', 'Average of Sep-17', 'Average of Oct-17', 'Average of Nov-17', 'Average of Dec-17', 'Average of Jan-18', 'Average of Feb-18', 'Average of Mar-18', 'Average of Apr-18', 'Average of May-18', 'Average of Jun-18', 'Average of Jul-18', 'Average of Aug-18', 'Average of Sep-18', 'Average of Oct-18', 'Average of Nov-18', 'Average of Dec-18',\n",
    "    'metastatic_diagnosis_period'\n",
    "]  # List to store features based on your chosen approach"
   ]
  },
  {
   "cell_type": "markdown",
   "id": "bb96edab-8100-41f2-8865-da54a1d117d9",
   "metadata": {},
   "source": [
    "#### Patient Demographics"
   ]
  },
  {
   "cell_type": "code",
   "execution_count": null,
   "id": "210143bd-4689-4c68-894a-53afa88f7661",
   "metadata": {},
   "outputs": [],
   "source": [
    "# Calculate correlation coefficients\n",
    "correlation_matrix = df_train[patient_demographics].corr()\n",
    "\n",
    "# Create a heatmap\n",
    "plt.figure(figsize=(10, 6))\n",
    "sns.heatmap(correlation_matrix, annot=True, cmap='coolwarm')  # Adjust 'cmap' for color scheme\n",
    "plt.title('Correlation Matrix (Features vs. Target)')\n",
    "plt.show()\n"
   ]
  },
  {
   "cell_type": "markdown",
   "id": "a59c94ff-f80d-47e5-bf5e-7024fa8640b1",
   "metadata": {},
   "source": [
    "####  Demographics by Zip Code"
   ]
  },
  {
   "cell_type": "code",
   "execution_count": null,
   "id": "69d0fc90-529e-4aa5-b66e-85cc0c26d03b",
   "metadata": {},
   "outputs": [],
   "source": [
    "# Calculate correlation coefficients\n",
    "correlation_matrix = df_train[demographics_by_zip_code].corr()\n",
    "\n",
    "# Create a heatmap\n",
    "plt.figure(figsize=(14, 10))\n",
    "sns.heatmap(correlation_matrix, annot=True, cmap='coolwarm')  # Adjust 'cmap' for color scheme\n",
    "plt.title('Correlation Matrix (Features vs. Target)')\n",
    "plt.show()"
   ]
  },
  {
   "cell_type": "markdown",
   "id": "73d66e34-f6f1-42b2-8413-46f05889a782",
   "metadata": {},
   "source": [
    "#### race_and_ethnicity "
   ]
  },
  {
   "cell_type": "code",
   "execution_count": null,
   "id": "eaf39b23-2ec0-4b53-bfaf-318ee8d6105c",
   "metadata": {},
   "outputs": [],
   "source": [
    "# Calculate correlation coefficients\n",
    "correlation_matrix = df_train[race_and_ethnicity].corr()\n",
    "\n",
    "# Create a heatmap\n",
    "plt.figure(figsize=(10, 6))\n",
    "sns.heatmap(correlation_matrix, annot=True, cmap='coolwarm')  # Adjust 'cmap' for color scheme\n",
    "plt.title('Correlation Matrix (Features vs. Target)')\n",
    "plt.show()"
   ]
  },
  {
   "cell_type": "markdown",
   "id": "534c9723-59b9-4e1b-8faf-c145e9aabba7",
   "metadata": {},
   "source": [
    "#### Age group correlation "
   ]
  },
  {
   "cell_type": "code",
   "execution_count": null,
   "id": "e5210cb3-b917-4c2b-9a0c-47388aeb4365",
   "metadata": {},
   "outputs": [],
   "source": [
    "# Calculate correlation coefficients\n",
    "correlation_matrix = df_train[age_groups].corr()\n",
    "\n",
    "# Create a heatmap\n",
    "plt.figure(figsize=(10, 6))\n",
    "sns.heatmap(correlation_matrix, annot=True, cmap='coolwarm')  # Adjust 'cmap' for color scheme\n",
    "plt.title('Correlation Matrix (Features vs. Target)')\n",
    "plt.show()"
   ]
  },
  {
   "cell_type": "markdown",
   "id": "6816db8f-32db-4ff4-ad7f-6de4df3714e0",
   "metadata": {},
   "source": [
    "####   marital_status"
   ]
  },
  {
   "cell_type": "code",
   "execution_count": null,
   "id": "3244bdce-a658-447b-b2f8-fde89ed1be06",
   "metadata": {},
   "outputs": [],
   "source": [
    "# Calculate correlation coefficients\n",
    "correlation_matrix = df_train[marital_status].corr()\n",
    "\n",
    "# Create a heatmap\n",
    "plt.figure(figsize=(10, 6))\n",
    "sns.heatmap(correlation_matrix, annot=True, cmap='coolwarm')  # Adjust 'cmap' for color scheme\n",
    "plt.title('Correlation Matrix (Features vs. Target)')\n",
    "plt.show()\n"
   ]
  },
  {
   "cell_type": "markdown",
   "id": "6b2f49d8-25d5-4483-8ba1-33ac364e47c8",
   "metadata": {},
   "source": [
    "### Income Correlation"
   ]
  },
  {
   "cell_type": "code",
   "execution_count": null,
   "id": "ce81ac83-830c-4773-a6ec-aff9250cc72d",
   "metadata": {},
   "outputs": [],
   "source": [
    "# Calculate correlation coefficients\n",
    "correlation_matrix = df_train[income].corr()\n",
    "\n",
    "# Create a heatmap\n",
    "plt.figure(figsize=(10, 6))\n",
    "sns.heatmap(correlation_matrix, annot=True, cmap='coolwarm')  # Adjust 'cmap' for color scheme\n",
    "plt.title('Correlation Matrix (Features vs. Target)')\n",
    "plt.show()"
   ]
  },
  {
   "cell_type": "markdown",
   "id": "377ed2ef-24db-4f7c-9bfe-af6cd48b3f63",
   "metadata": {},
   "source": [
    "#### Socio-economic factors"
   ]
  },
  {
   "cell_type": "code",
   "execution_count": null,
   "id": "691a1996-c46a-4377-b403-4c28555d04fb",
   "metadata": {},
   "outputs": [],
   "source": [
    "# Calculate correlation coefficients\n",
    "correlation_matrix = df_train[socioeconomic_factors].corr()\n",
    "\n",
    "# Create a heatmap\n",
    "plt.figure(figsize=(10, 6))\n",
    "sns.heatmap(correlation_matrix, annot=True, cmap='coolwarm')  # Adjust 'cmap' for color scheme\n",
    "plt.title('Correlation Matrix (Features vs. Target)')\n",
    "plt.show()\n"
   ]
  },
  {
   "cell_type": "markdown",
   "id": "ab9325be-a3e6-4543-8cea-264fe6cafc58",
   "metadata": {},
   "source": [
    "#### Education"
   ]
  },
  {
   "cell_type": "code",
   "execution_count": null,
   "id": "3e0f1731-fc69-4748-9d28-ed2171806c34",
   "metadata": {},
   "outputs": [],
   "source": [
    "# Calculate correlation coefficients\n",
    "correlation_matrix = df_train[education].corr()\n",
    "\n",
    "# Create a heatmap\n",
    "plt.figure(figsize=(10, 6))\n",
    "sns.heatmap(correlation_matrix, annot=True, cmap='coolwarm')  # Adjust 'cmap' for color scheme\n",
    "plt.title('Correlation Matrix (Features vs. Target)')\n",
    "plt.show()"
   ]
  },
  {
   "cell_type": "markdown",
   "id": "f8f383ee-a91a-4b40-a92a-d6039fb2d089",
   "metadata": {},
   "source": [
    "#### Employment"
   ]
  },
  {
   "cell_type": "code",
   "execution_count": null,
   "id": "0ae716b5-dca0-47db-b548-b6535c7dbf2a",
   "metadata": {},
   "outputs": [],
   "source": [
    "# Calculate correlation coefficients\n",
    "correlation_matrix = df_train[employment].corr()\n",
    "\n",
    "# Create a heatmap\n",
    "plt.figure(figsize=(10, 6))\n",
    "sns.heatmap(correlation_matrix, annot=True, cmap='coolwarm')  # Adjust 'cmap' for color scheme\n",
    "plt.title('Correlation Matrix (Features vs. Target)')\n",
    "plt.show()\n"
   ]
  },
  {
   "cell_type": "markdown",
   "id": "c3412943-7b7f-4006-b646-eaab05c877a9",
   "metadata": {},
   "source": [
    "#### Other"
   ]
  },
  {
   "cell_type": "code",
   "execution_count": null,
   "id": "a5ac464d-6cc7-42dc-a01c-f8a340d49ff1",
   "metadata": {},
   "outputs": [],
   "source": [
    "# Calculate correlation coefficients\n",
    "correlation_matrix = df_train[other].corr()\n",
    "\n",
    "# Create a heatmap\n",
    "plt.figure(figsize=(10, 6))\n",
    "sns.heatmap(correlation_matrix, annot=True, cmap='coolwarm')  # Adjust 'cmap' for color scheme\n",
    "plt.title('Correlation Matrix (Features vs. Target)')\n",
    "plt.show()"
   ]
  },
  {
   "cell_type": "markdown",
   "id": "f6fff4dd-6485-49c1-b2f5-64498e02395c",
   "metadata": {},
   "source": [
    "### Correlation between each features and the target using .corr() with spearman and pearson methods"
   ]
  },
  {
   "cell_type": "code",
   "execution_count": null,
   "id": "13a7f697-5f2a-41b5-9cbe-27ae8c1212f1",
   "metadata": {},
   "outputs": [],
   "source": [
    "df_train.corr(method='spearman')[target_col].abs().sort_values()  # Spearman correlation for non-normal data"
   ]
  },
  {
   "cell_type": "code",
   "execution_count": null,
   "id": "bdbc233c-9351-4484-8b90-1fcb77c8108f",
   "metadata": {},
   "outputs": [],
   "source": [
    "df_train.corr()[target_col].abs().sort_values() # Pearson is the default"
   ]
  },
  {
   "cell_type": "markdown",
   "id": "26963e94-ca20-4e87-8267-fd73db984057",
   "metadata": {},
   "source": [
    "### Feature engineering\n",
    "\n",
    "Creating new features in data science is an essential process that involves generating synthetic attributes from existing data. This process aims to extract additional information from the existing dataset, which can help improve the performance of machine learning models. By creating new features, data scientists can capture complex relationships and patterns that may be overlooked with only the original features."
   ]
  },
  {
   "cell_type": "code",
   "execution_count": null,
   "id": "86769de1-3cda-471c-b69f-538f259f1870",
   "metadata": {},
   "outputs": [],
   "source": []
  },
  {
   "cell_type": "markdown",
   "id": "6fceaca1-8cc2-4152-ad56-57e35f275e22",
   "metadata": {},
   "source": [
    "# Regression modeling"
   ]
  },
  {
   "cell_type": "code",
   "execution_count": null,
   "id": "c8c45ce0-9387-449e-b31e-66072fd76402",
   "metadata": {},
   "outputs": [],
   "source": []
  }
 ],
 "metadata": {
  "kernelspec": {
   "display_name": "Python 3 (ipykernel)",
   "language": "python",
   "name": "python3"
  },
  "language_info": {
   "codemirror_mode": {
    "name": "ipython",
    "version": 3
   },
   "file_extension": ".py",
   "mimetype": "text/x-python",
   "name": "python",
   "nbconvert_exporter": "python",
   "pygments_lexer": "ipython3",
   "version": "3.10.11"
  }
 },
 "nbformat": 4,
 "nbformat_minor": 5
}
